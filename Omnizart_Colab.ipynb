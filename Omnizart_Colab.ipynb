{
  "nbformat": 4,
  "nbformat_minor": 0,
  "metadata": {
    "colab": {
      "name": "Omnizart Colab",
      "private_outputs": true,
      "provenance": [],
      "collapsed_sections": [],
      "include_colab_link": true
    },
    "kernelspec": {
      "name": "python3",
      "display_name": "Python 3"
    },
    "accelerator": "GPU"
  },
  "cells": [
    {
      "cell_type": "markdown",
      "metadata": {
        "id": "view-in-github",
        "colab_type": "text"
      },
      "source": [
        "<a href=\"https://colab.research.google.com/github/henrykylaw/cakephp-ex/blob/master/Omnizart_Colab.ipynb\" target=\"_parent\"><img src=\"https://colab.research.google.com/assets/colab-badge.svg\" alt=\"Open In Colab\"/></a>"
      ]
    },
    {
      "cell_type": "markdown",
      "metadata": {
        "id": "__mzyUl4-S-B"
      },
      "source": [
        "# Omniscient Mozart\n",
        "\n",
        "This is a colab for demonstrating the python package `omnizart` developed by [MCTLab](https://sites.google.com/view/mctl/home).\n",
        "\n",
        "Github repository can be found in [Music-and-Culture-Technology-Lab/omnizart](https://github.com/Music-and-Culture-Technology-Lab/omnizart).\n",
        "\n",
        "Official documentation page can be found in [omnizart-doc](https://music-and-culture-technology-lab.github.io/omnizart-doc/)"
      ]
    },
    {
      "cell_type": "code",
      "metadata": {
        "id": "O-YxojSStkE8",
        "cellView": "form"
      },
      "source": [
        "#@title Environment Setup\n",
        "\n",
        "!pip install omnizart\n",
        "!omnizart download-checkpoints\n",
        "!apt install fluidsynth\n",
        "!pip install pyfluidsynth\n",
        "!curl -L https://yt-dl.org/downloads/latest/youtube-dl -o /usr/local/bin/youtube-dl\n",
        "!chmod a+rx /usr/local/bin/youtube-dl\n",
        "\n",
        "import os\n",
        "from google.colab import files\n",
        "from IPython import display as dsp"
      ],
      "execution_count": null,
      "outputs": []
    },
    {
      "cell_type": "markdown",
      "metadata": {
        "id": "bacqEXNO-gYd"
      },
      "source": [
        "# Choose an Audio\n",
        "\n",
        "Either upload your own MP3 file, or choose from YouTube.\n"
      ]
    },
    {
      "cell_type": "code",
      "metadata": {
        "id": "fFxihIG2ZpCM",
        "cellView": "form"
      },
      "source": [
        "#@title Upload MP3 File\n",
        "\n",
        "ff = files.upload()\n",
        "uploaded_audio = list(ff.keys())[0].replace(\".mp3\", \"\")\n",
        "\n",
        "!test -f \"$uploaded_audio\".wav && rm \"$uploaded_audio\".wav\n",
        "!ffmpeg -i \"$uploaded_audio\".mp3 \"$uploaded_audio\".wav &>/dev/null\n",
        "\n",
        "dsp.Audio(uploaded_audio + \".mp3\") if os.path.exists(uploaded_audio + \".mp3\") else None"
      ],
      "execution_count": null,
      "outputs": []
    },
    {
      "cell_type": "code",
      "metadata": {
        "id": "O2EulE2RojKQ",
        "cellView": "form"
      },
      "source": [
        "#@title Choose from YouTube\n",
        "\n",
        "url = input(\"Enter your YouTube link: \")\n",
        "\n",
        "try:\n",
        "  id = url.split(\"watch?v=\")[1].split(\"&\")[0]\n",
        "  vid = dsp.YouTubeVideo(id)\n",
        "  dsp.display(vid)\n",
        "except Exception:\n",
        "  pass\n",
        "\n",
        "print(\"Downloading...\")\n",
        "\n",
        "!youtube-dl -x --audio-format wav --no-playlist \"$url\"\n",
        "!youtube-dl --get-filename --no-playlist \"$url\" > tmp\n",
        "\n",
        "uploaded_audio = os.path.splitext(open(\"tmp\").readline().strip())[0]\n",
        "print(f\"Finished: {uploaded_audio}\")"
      ],
      "execution_count": null,
      "outputs": []
    },
    {
      "cell_type": "markdown",
      "metadata": {
        "id": "cY6bEuFm_fn9"
      },
      "source": [
        "# Transcribe the Audio\n",
        "\n",
        "There are several modes you can choose.\n",
        "* `music-piano`: transcribe piano solo clips.\n",
        "* `music-assemble`: transcribe classical assemble pieces.\n",
        "* `chord`: transcribe chord progressions.\n",
        "* `drum`: transcribe drum percussion in the audio."
      ]
    },
    {
      "cell_type": "code",
      "metadata": {
        "id": "kq5amjSovASe",
        "cellView": "form"
      },
      "source": [
        "#@title Transcribe\n",
        "\n",
        "mode = \"music-piano\" #@param [\"music-piano\", \"music-assemble\", \"chord\", \"drum\"]\n",
        "\n",
        "mode_list = mode.split(\"-\")\n",
        "mode = mode_list[0]\n",
        "model = \"-\".join(mode_list[1:])\n",
        "\n",
        "from omnizart.music import app as mapp\n",
        "from omnizart.chord import app as capp\n",
        "from omnizart.drum import app as dapp\n",
        "\n",
        "app = {\n",
        "    \"music\": mapp,\n",
        "    \"chord\": capp,\n",
        "    \"drum\": dapp\n",
        "}[mode]\n",
        "\n",
        "model_path = {\n",
        "    \"piano\": \"Piano\",\n",
        "    \"assemble\": \"Stream\",\n",
        "    \"pop-song\": \"Pop\",\n",
        "    \"\": None\n",
        "}[model]\n",
        "\n",
        "midi = app.transcribe(f\"{uploaded_audio}.wav\", model_path=model_path)\n",
        "\n",
        "# Synthesize MIDI and play\n",
        "import scipy.io.wavfile as wave\n",
        "from omnizart.remote import download_large_file_from_google_drive\n",
        "\n",
        "SF2_FILE = \"general_soundfont.sf2\"\n",
        "if not os.path.exists(SF2_FILE):\n",
        "  print(\"Downloading soundfont...\")\n",
        "  download_large_file_from_google_drive(\n",
        "      \"16RM-dWKcNtjpBoo7DFSONpplPEg5ruvO\",\n",
        "      file_length=31277462,\n",
        "      save_name=SF2_FILE\n",
        "    )\n",
        "\n",
        "print(\"Synthesizing MIDI...\")\n",
        "out_name = f\"{uploaded_audio}_synth.wav\"\n",
        "raw_wav = midi.fluidsynth(fs=44100, sf2_path=SF2_FILE)\n",
        "wave.write(out_name, 44100, raw_wav)\n",
        "\n",
        "!ffmpeg -i \"$out_name\" \"tmp_synth.mp3\" &>/dev/null\n",
        "!mv tmp_synth.mp3 \"$uploaded_audio\"_synth.mp3\n",
        "\n",
        "out_name = out_name.replace(\".wav\", \".mp3\")\n",
        "print(f\"Finished: {out_name}\")\n",
        "dsp.Audio(out_name)"
      ],
      "execution_count": null,
      "outputs": []
    },
    {
      "cell_type": "markdown",
      "metadata": {
        "id": "0s43jRukAhUz"
      },
      "source": [
        "# Download the Transribed MIDI/MP3"
      ]
    },
    {
      "cell_type": "code",
      "metadata": {
        "id": "spemscTwpzG-",
        "cellView": "form"
      },
      "source": [
        "#@title Download MIDI\n",
        "\n",
        "files.download(f\"{uploaded_audio}.mid\")"
      ],
      "execution_count": null,
      "outputs": []
    },
    {
      "cell_type": "code",
      "metadata": {
        "id": "buVg5sYZqLoG",
        "cellView": "form"
      },
      "source": [
        "#@title Download MP3\n",
        "\n",
        "files.download(out_name)"
      ],
      "execution_count": null,
      "outputs": []
    }
  ]
}